{
 "cells": [
  {
   "cell_type": "markdown",
   "metadata": {},
   "source": [
    "# CDR Experiments via Pymagicc\n",
    "##### CC-BY 4.0 2019 @safiume"
   ]
  },
  {
   "cell_type": "code",
   "execution_count": null,
   "metadata": {},
   "outputs": [],
   "source": [
    "import expectexception\n",
    "import numpy as np\n",
    "import pandas as pd\n",
    "from datetime import datetime\n",
    "from matplotlib import pyplot as plt\n",
    "%matplotlib inline\n",
    "from os import listdir\n",
    "from os.path import join, dirname\n",
    "from pprint import pprint"
   ]
  },
  {
   "cell_type": "code",
   "execution_count": null,
   "metadata": {},
   "outputs": [],
   "source": [
    "import pymagicc\n",
    "from pymagicc import MAGICC6\n",
    "from pymagicc.io import MAGICCData, read_cfg_file, NoReaderWriterError, join_timeseries\n",
    "from pymagicc.scenarios import ( rcp26, rcp45, rcps )\n",
    "print(pymagicc.__version__)"
   ]
  },
  {
   "cell_type": "code",
   "execution_count": null,
   "metadata": {},
   "outputs": [],
   "source": [
    "## list declines to run\n",
    "declines = {\"emax\": \"\", \"lmax\": \"\", \"emin\": \"\", \"lmin\": \"\"}\n",
    "SCEN_DIR = \"SCEN\"\n",
    "MAGICC6_DIR = \"CDRRUN\"\n",
    "\n",
    "##Start of Magic settings\n",
    "magcfg = { \"startyear\" : 1765,\n",
    "          \"endyear\" : 2500,\n",
    "          \"core_climatesensitivity\" : 3,\n",
    "          \"co2_tempfeedback_yrstart\" : 2005,\n",
    "          \"co2_fertilization_yrstart\" : 2005,\n",
    "          \"co2_switchfromconc2emis_year\" : 2005,\n",
    "          \"rf_mhalo_constantafteryr\" : 2500,\n",
    "          \"rf_fgas_constantafteryr\" : 2500 }\n",
    "### End MAGICC Settings"
   ]
  },
  {
   "cell_type": "code",
   "execution_count": null,
   "metadata": {},
   "outputs": [],
   "source": [
    "## CDRex emission declines\n",
    "def read_declines (names):\n",
    "    for name in (names):\n",
    "        declinefile = join(SCEN_DIR, \"ONC\" + name + \".SCEN\")\n",
    "        mdata = MAGICCData(declinefile,\n",
    "                           columns={\"model\": [\"CDRex\"], \"scenario\": [name]}\n",
    "                          )\n",
    "        declines[name] = mdata\n",
    "    return declines"
   ]
  },
  {
   "cell_type": "code",
   "execution_count": null,
   "metadata": {},
   "outputs": [],
   "source": [
    "### Run Declines\n",
    "print(declines.keys())\n",
    "declinedata = read_declines(declines.keys())\n",
    "print(declinedata[\"emax\"][\"variable\"][0])\n",
    "print(declines[\"lmin\"][\"time\"].tail(1))"
   ]
  },
  {
   "cell_type": "markdown",
   "metadata": {},
   "source": [
    "## Scenarios\n",
    "\n",
    "The four RCP scenarios are already preloaded as DataFrames in pyhector. They contain the following emissions:\n"
   ]
  },
  {
   "cell_type": "code",
   "execution_count": null,
   "metadata": {},
   "outputs": [],
   "source": [
    "rcp26.head()"
   ]
  },
  {
   "cell_type": "code",
   "execution_count": null,
   "metadata": {},
   "outputs": [],
   "source": [
    "declines[\"emax\"].tail(2)"
   ]
  },
  {
   "cell_type": "markdown",
   "metadata": {},
   "source": [
    "They are split up in regions:"
   ]
  },
  {
   "cell_type": "code",
   "execution_count": null,
   "metadata": {},
   "outputs": [],
   "source": [
    "rcp26[\"region\"].unique()"
   ]
  },
  {
   "cell_type": "code",
   "execution_count": null,
   "metadata": {},
   "outputs": [],
   "source": [
    "pprint(rcps.timeseries().groupby([\"scenario\"]))\n",
    "rcps[\"scenario\"].unique()"
   ]
  },
  {
   "cell_type": "markdown",
   "metadata": {},
   "source": [
    "They have the following units:"
   ]
  },
  {
   "cell_type": "code",
   "execution_count": null,
   "metadata": {},
   "outputs": [],
   "source": [
    "#pymagicc.units\n",
    "rcp26[[\"variable\", \"unit\"]].drop_duplicates().head(2)"
   ]
  },
  {
   "cell_type": "markdown",
   "metadata": {},
   "source": [
    "A plot of four categories in RCP3PD"
   ]
  },
  {
   "cell_type": "code",
   "execution_count": null,
   "metadata": {
    "scrolled": true
   },
   "outputs": [],
   "source": [
    "categories_to_plot = [\n",
    "    \"Emissions|\" + v \n",
    "    for v in [\"CO2|MAGICC Fossil and Industrial\", \"CO2|MAGICC AFOLU\", \"CH4\", \"N2O\"]\n",
    "]\n",
    "rcp26.filter(\n",
    "    variable = categories_to_plot\n",
    ").pivot_table(\n",
    "    index = \"time\", \n",
    "    columns = [\"variable\", \"unit\", \"region\"],\n",
    "    aggfunc = \"sum\"\n",
    ").groupby(level = \"variable\", axis = 1).plot(figsize = (12, 7));"
   ]
  },
  {
   "cell_type": "markdown",
   "metadata": {},
   "source": [
    "Fossil fuel emissions for the four RCP scenarios."
   ]
  },
  {
   "cell_type": "code",
   "execution_count": null,
   "metadata": {},
   "outputs": [],
   "source": [
    "declines[\"emax\"][\"unit\"][0]"
   ]
  },
  {
   "cell_type": "code",
   "execution_count": null,
   "metadata": {},
   "outputs": [],
   "source": [
    "fig, (ax1,ax2) = plt.subplots(2,1, figsize = (16, 10))\n",
    "\n",
    "for name, scen in declines.items():\n",
    "    scen.filter(\n",
    "        variable = [\"Emissions|CO2|MAGICC Fossil and Industrial\", \n",
    "                    \"Emissions|CO2|MAGICC AFOLU\"],\n",
    "        region = \"World\",\n",
    "    ).line_plot(ax = ax1);\n",
    "    ax1.set_ylabel(scen[\"unit\"][0])\n",
    "    ax1.set_title(\n",
    "        \"OpenCDR RPC experimental scenarios for Fossil Fuel emissions (CO₂)\")\n",
    "    ax1.set_xlim([datetime(2000, 1, 1), datetime(2500, 1, 1)])\n",
    "    scen.filter(\n",
    "        variable = [\"Emissions|CH4\", \"Emissions|CO\"],\n",
    "        region = \"World\",\n",
    "    ).line_plot(ax = ax2);\n",
    "    ax2.set_ylabel(scen[\"unit\"][3])\n",
    "    ax2.set_title(\n",
    "        \"OpenCDR RPC experimental scenarios for Methane & Carbon Monoxide (CH4, CO)\")\n",
    "    ax2.set_xlim([datetime(2000, 1, 1), datetime(2500, 1, 1)])"
   ]
  },
  {
   "cell_type": "markdown",
   "metadata": {},
   "source": [
    "## Running MAGICC\n",
    "\n",
    "A single `pymagicc` run doesn't take long and returns a Pandas Dict.\n",
    "(If not on Windows, the very first run might be slower due to setting up Wine.)"
   ]
  },
  {
   "cell_type": "code",
   "execution_count": null,
   "metadata": {
    "scrolled": true
   },
   "outputs": [],
   "source": [
    "# NBVAL_IGNORE_OUTPUT\n",
    "%time results = pymagicc.run(rcp26, **magcfg)\n",
    "results = \"\"\n",
    "%time results = pymagicc.run(declines[\"emin\"], **magcfg)\n",
    "results = \"\"\n",
    "%time results = pymagicc.run(rcp26, **magcfg)\n",
    "slice = results[[\"scenario\",\"region\",\"variable\", \"unit\"]]\n",
    "results = \"\"\n",
    "print(slice[slice[\"region\"].isin([\"World\"])])"
   ]
  },
  {
   "cell_type": "code",
   "execution_count": null,
   "metadata": {},
   "outputs": [],
   "source": [
    "splt1 = {\"surftemp\":\"Surface Temperature\"}\n",
    "splt2 = {\"rf\":\"Radiative Forcing\"}\n",
    "splt3 = {\"emiss\":\"*Emissions|CO2*\"}\n",
    "splt4 = {\"conc\":\"*Concentrations|CO2\"}\n",
    "\n",
    "fig, (ax1,ax2,ax3,ax4) = plt.subplots(4, 1, figsize=(24, 32))\n",
    "\n",
    "def displaymg (run, axes, variable):\n",
    "    run.filter(\n",
    "        variable=variable,\n",
    "        region=\"World\"\n",
    "    ).line_plot(ax=axes, x=\"time\");\n",
    "    return(run.filter)\n",
    "\n",
    "def populateplts (raw):\n",
    "    displaymg(raw, ax1, splt1[\"surftemp\"])\n",
    "    displaymg(raw, ax2, splt2[\"rf\"])\n",
    "    displaymg(raw, ax3, splt3[\"emiss\"])\n",
    "    displaymg(raw, ax4, splt4[\"conc\"])\n",
    "\n",
    "def lableplts ():\n",
    "    ax1.set_ylabel(\"ºC\")\n",
    "    ax1.set_title(splt1[\"surftemp\"])\n",
    "    ax1.set_xlim([datetime(2000, 1, 1), datetime(magcfg[\"endyear\"], 1, 1)])\n",
    "    ax2.set_ylabel(\"Wm⁻²\")\n",
    "    ax2.set_title(splt2[\"rf\"])\n",
    "    ax2.set_xlim([datetime(2000, 1, 1), datetime(magcfg[\"endyear\"], 1, 1)])\n",
    "    ax3.set_ylabel(\"GtC\")\n",
    "    ax3.set_title(splt3[\"emiss\"])\n",
    "    ax3.set_xlim([datetime(2000, 1, 1), datetime(magcfg[\"endyear\"], 1, 1)])\n",
    "    ax4.set_ylabel(\"ppm\")\n",
    "    ax4.set_title(splt4[\"conc\"])\n",
    "    ax4.set_xlim([datetime(2000, 1, 1), datetime(magcfg[\"endyear\"], 1, 1)])\n",
    "\n",
    "with MAGICC6() as magicc:\n",
    "    for name, sdf in rcps.timeseries().groupby([\"scenario\"]):\n",
    "        raw = pymagicc.run(MAGICCData(sdf.copy()), **magcfg)\n",
    "        cntpltsA = populateplts(raw)\n",
    "    for name, scen in declines.items():\n",
    "        raw = pymagicc.run(scen, **magcfg)\n",
    "        cntpltsB = populateplts(raw)\n",
    "    if (cntpltsA == cntpltsB):\n",
    "        lableplts()\n"
   ]
  },
  {
   "cell_type": "markdown",
   "metadata": {},
   "source": [
    "The default parameters are the ones that were used to produce the RCP GHG concentrations (see also http://live.magicc.org/). Of course it's easy to change them."
   ]
  },
  {
   "cell_type": "code",
   "execution_count": null,
   "metadata": {},
   "outputs": [],
   "source": [
    "low = pymagicc.run(rcp45, core_climatesensitivity=1.5, endyear=2500)\n",
    "default = pymagicc.run(rcp45, core_climatesensitivity=3, endyear=2500)\n",
    "high = pymagicc.run(rcp45, core_climatesensitivity=4.5, endyear=2500)"
   ]
  },
  {
   "cell_type": "code",
   "execution_count": null,
   "metadata": {},
   "outputs": [],
   "source": [
    "filtering = {\n",
    "    \"variable\": \"Surface Temperature\",\n",
    "    \"region\": \"World\",\n",
    "    \"year\": range(1850, magcfg[\"endyear\"]),\n",
    "}\n",
    "\n",
    "fig, ax = plt.subplots(nrows=1, ncols=1, figsize=(16, 9))\n",
    "default.filter(**filtering).line_plot(x=\"time\", ax=ax)\n",
    "plt.fill_between(\n",
    "    low.filter(**filtering)[\"time\"].values,\n",
    "    low.filter(**filtering).timeseries().values.squeeze(),\n",
    "    high.filter(**filtering).timeseries().values.squeeze(),\n",
    "    color=\"lightgray\"\n",
    ")\n",
    "\n",
    "plt.title(\n",
    "    \"RCP 4.5 with equilibrium climate sensitivity set to 1.5, 3, and 4.5\"\n",
    ")\n",
    "plt.ylabel(\"°C\");"
   ]
  },
  {
   "cell_type": "code",
   "execution_count": null,
   "metadata": {},
   "outputs": [],
   "source": []
  }
 ],
 "metadata": {
  "kernelspec": {
   "display_name": "Python 3",
   "language": "python",
   "name": "python3"
  },
  "language_info": {
   "codemirror_mode": {
    "name": "ipython",
    "version": 3
   },
   "file_extension": ".py",
   "mimetype": "text/x-python",
   "name": "python",
   "nbconvert_exporter": "python",
   "pygments_lexer": "ipython3",
   "version": "3.6.4"
  }
 },
 "nbformat": 4,
 "nbformat_minor": 2
}
