{
 "cells": [
  {
   "cell_type": "markdown",
   "metadata": {},
   "source": [
    "# abrupt-0p5xCO₂ in Pymagicc\n",
    "##### CC-BY 4.0 2020 @safiume, https://github.com/hsbay/cdrmex¶"
   ]
  },
  {
   "cell_type": "code",
   "execution_count": 1,
   "metadata": {},
   "outputs": [],
   "source": [
    "##### Abrupt .5% decrease in CO₂ concentration\n",
    "##### Pymagicc https://pymagicc.readthedocs.io/ AGPL-3.0, \n",
    "##### and MAGICC6, http://www.magicc.org/download6, CC-BY-NC-SA-4.0,\n",
    "##### CDR calibration file and experiment"
   ]
  },
  {
   "cell_type": "code",
   "execution_count": 2,
   "metadata": {},
   "outputs": [
    {
     "name": "stdout",
     "output_type": "stream",
     "text": [
      "Python verison: 3.7.4 (v3.7.4:e09359112e, Jul  8 2019, 14:54:52) \n",
      "[Clang 6.0 (clang-600.0.57)]\n"
     ]
    }
   ],
   "source": [
    "# NBVAL_IGNORE_OUTPUT\n",
    "from os.path import join\n",
    "from datetime import datetime\n",
    "import sys, dateutil\n",
    "from copy import deepcopy\n",
    "import numpy as np\n",
    "import pandas as pd\n",
    "from matplotlib import pyplot as plt\n",
    "%matplotlib inline\n",
    "print(\"Python verison:\", sys.version)"
   ]
  },
  {
   "cell_type": "code",
   "execution_count": 3,
   "metadata": {},
   "outputs": [
    {
     "data": {
      "application/javascript": [
       "IPython.OutputArea.prototype._should_scroll = function(lines) { return false; }"
      ],
      "text/plain": [
       "<IPython.core.display.Javascript object>"
      ]
     },
     "metadata": {},
     "output_type": "display_data"
    },
    {
     "name": "stderr",
     "output_type": "stream",
     "text": [
      "pyam - INFO: Running in a notebook, setting `pyam` logging level to `logging.INFO` and adding stderr handler\n"
     ]
    },
    {
     "name": "stdout",
     "output_type": "stream",
     "text": [
      "Pymagicc version: 2.0.0rc8+19.g7aade1e.dirty\n",
      "Scenario API (<class 'scmdata.run.ScmRun'>,)\n"
     ]
    }
   ],
   "source": [
    "import pymagicc\n",
    "from pymagicc import MAGICC6, rcp26, zero_emissions \n",
    "from pymagicc.io import MAGICCData\n",
    "print(\"Pymagicc version:\", pymagicc.__version__)\n",
    "print(\"Scenario API\", rcp26.__class__.__bases__)"
   ]
  },
  {
   "cell_type": "code",
   "execution_count": 4,
   "metadata": {},
   "outputs": [],
   "source": [
    "# Turn off emissions caculations by forcing emissions\n",
    "# to switch on post experiment. Climate sensitivity \n",
    "# can be tuned to emulate ESMs.\n",
    "\n",
    "# See 'Reduced complexity model intercomparison project phase \n",
    "# 1: Protocol, results and initial observations' \n",
    "# https://doi.org/10.5194/gmd-2019-375 for more details on \n",
    "# calibrating.\n",
    "\n",
    "magcfg = {\n",
    "    'co2_switchfromconc2emis_year': 5000,\n",
    "    'co2_tempfeedback_switch': 1,\n",
    "    'rf_total_runmodus':\"CO2\",\n",
    "    'rf_total_constantafteryr': 5000,\n",
    "    'startyear' : 1600,\n",
    "    'endyear': 2620,\n",
    "    'core_climatesensitivity' : 3,\n",
    "    'out_inverseemis': 1,\n",
    "}\n",
    "\n",
    "vars = [\"Surface Temperature\",\n",
    "        \"Radiative Forcing\",\n",
    "        \"Atmospheric Concentrations|CO2\"]\n",
    "\n",
    "# Graph datetime\n",
    "x = (datetime(1798, 1, 1), datetime(2000, 1, 1))"
   ]
  },
  {
   "cell_type": "code",
   "execution_count": 5,
   "metadata": {},
   "outputs": [
    {
     "data": {
      "text/html": [
       "<div>\n",
       "<style scoped>\n",
       "    .dataframe tbody tr th:only-of-type {\n",
       "        vertical-align: middle;\n",
       "    }\n",
       "\n",
       "    .dataframe tbody tr th {\n",
       "        vertical-align: top;\n",
       "    }\n",
       "\n",
       "    .dataframe thead th {\n",
       "        text-align: right;\n",
       "    }\n",
       "</style>\n",
       "<table border=\"1\" class=\"dataframe\">\n",
       "  <thead>\n",
       "    <tr style=\"text-align: right;\">\n",
       "      <th></th>\n",
       "      <th></th>\n",
       "      <th></th>\n",
       "      <th></th>\n",
       "      <th></th>\n",
       "      <th></th>\n",
       "      <th>time</th>\n",
       "      <th>1600-01-01 00:00:00</th>\n",
       "      <th>1601-01-01 00:00:00</th>\n",
       "      <th>1602-01-01 00:00:00</th>\n",
       "      <th>1603-01-01 00:00:00</th>\n",
       "      <th>1604-01-01 00:00:00</th>\n",
       "      <th>1605-01-01 00:00:00</th>\n",
       "      <th>1606-01-01 00:00:00</th>\n",
       "      <th>1607-01-01 00:00:00</th>\n",
       "      <th>1608-01-01 00:00:00</th>\n",
       "      <th>1609-01-01 00:00:00</th>\n",
       "      <th>...</th>\n",
       "      <th>4991-01-01 00:00:00</th>\n",
       "      <th>4992-01-01 00:00:00</th>\n",
       "      <th>4993-01-01 00:00:00</th>\n",
       "      <th>4994-01-01 00:00:00</th>\n",
       "      <th>4995-01-01 00:00:00</th>\n",
       "      <th>4996-01-01 00:00:00</th>\n",
       "      <th>4997-01-01 00:00:00</th>\n",
       "      <th>4998-01-01 00:00:00</th>\n",
       "      <th>4999-01-01 00:00:00</th>\n",
       "      <th>5000-01-01 00:00:00</th>\n",
       "    </tr>\n",
       "    <tr>\n",
       "      <th>climate_model</th>\n",
       "      <th>model</th>\n",
       "      <th>region</th>\n",
       "      <th>scenario</th>\n",
       "      <th>todo</th>\n",
       "      <th>unit</th>\n",
       "      <th>variable</th>\n",
       "      <th></th>\n",
       "      <th></th>\n",
       "      <th></th>\n",
       "      <th></th>\n",
       "      <th></th>\n",
       "      <th></th>\n",
       "      <th></th>\n",
       "      <th></th>\n",
       "      <th></th>\n",
       "      <th></th>\n",
       "      <th></th>\n",
       "      <th></th>\n",
       "      <th></th>\n",
       "      <th></th>\n",
       "      <th></th>\n",
       "      <th></th>\n",
       "      <th></th>\n",
       "      <th></th>\n",
       "      <th></th>\n",
       "      <th></th>\n",
       "      <th></th>\n",
       "    </tr>\n",
       "  </thead>\n",
       "  <tbody>\n",
       "    <tr>\n",
       "      <th>unspecified</th>\n",
       "      <th>unspecified</th>\n",
       "      <th>World</th>\n",
       "      <th>abrupt0p5xCO2</th>\n",
       "      <th>SET</th>\n",
       "      <th>ppm</th>\n",
       "      <th>Atmospheric Concentrations|CO2</th>\n",
       "      <td>276.744</td>\n",
       "      <td>276.744</td>\n",
       "      <td>276.744</td>\n",
       "      <td>276.744</td>\n",
       "      <td>276.744</td>\n",
       "      <td>276.744</td>\n",
       "      <td>276.744</td>\n",
       "      <td>276.744</td>\n",
       "      <td>276.744</td>\n",
       "      <td>276.744</td>\n",
       "      <td>...</td>\n",
       "      <td>138.372</td>\n",
       "      <td>138.372</td>\n",
       "      <td>138.372</td>\n",
       "      <td>138.372</td>\n",
       "      <td>138.372</td>\n",
       "      <td>138.372</td>\n",
       "      <td>138.372</td>\n",
       "      <td>138.372</td>\n",
       "      <td>138.372</td>\n",
       "      <td>138.372</td>\n",
       "    </tr>\n",
       "  </tbody>\n",
       "</table>\n",
       "<p>1 rows × 3401 columns</p>\n",
       "</div>"
      ],
      "text/plain": [
       "time                                                                                     1600-01-01 00:00:00  \\\n",
       "climate_model model       region scenario      todo unit variable                                              \n",
       "unspecified   unspecified World  abrupt0p5xCO2 SET  ppm  Atmospheric Concentrations|CO2              276.744   \n",
       "\n",
       "time                                                                                     1601-01-01 00:00:00  \\\n",
       "climate_model model       region scenario      todo unit variable                                              \n",
       "unspecified   unspecified World  abrupt0p5xCO2 SET  ppm  Atmospheric Concentrations|CO2              276.744   \n",
       "\n",
       "time                                                                                     1602-01-01 00:00:00  \\\n",
       "climate_model model       region scenario      todo unit variable                                              \n",
       "unspecified   unspecified World  abrupt0p5xCO2 SET  ppm  Atmospheric Concentrations|CO2              276.744   \n",
       "\n",
       "time                                                                                     1603-01-01 00:00:00  \\\n",
       "climate_model model       region scenario      todo unit variable                                              \n",
       "unspecified   unspecified World  abrupt0p5xCO2 SET  ppm  Atmospheric Concentrations|CO2              276.744   \n",
       "\n",
       "time                                                                                     1604-01-01 00:00:00  \\\n",
       "climate_model model       region scenario      todo unit variable                                              \n",
       "unspecified   unspecified World  abrupt0p5xCO2 SET  ppm  Atmospheric Concentrations|CO2              276.744   \n",
       "\n",
       "time                                                                                     1605-01-01 00:00:00  \\\n",
       "climate_model model       region scenario      todo unit variable                                              \n",
       "unspecified   unspecified World  abrupt0p5xCO2 SET  ppm  Atmospheric Concentrations|CO2              276.744   \n",
       "\n",
       "time                                                                                     1606-01-01 00:00:00  \\\n",
       "climate_model model       region scenario      todo unit variable                                              \n",
       "unspecified   unspecified World  abrupt0p5xCO2 SET  ppm  Atmospheric Concentrations|CO2              276.744   \n",
       "\n",
       "time                                                                                     1607-01-01 00:00:00  \\\n",
       "climate_model model       region scenario      todo unit variable                                              \n",
       "unspecified   unspecified World  abrupt0p5xCO2 SET  ppm  Atmospheric Concentrations|CO2              276.744   \n",
       "\n",
       "time                                                                                     1608-01-01 00:00:00  \\\n",
       "climate_model model       region scenario      todo unit variable                                              \n",
       "unspecified   unspecified World  abrupt0p5xCO2 SET  ppm  Atmospheric Concentrations|CO2              276.744   \n",
       "\n",
       "time                                                                                     1609-01-01 00:00:00  \\\n",
       "climate_model model       region scenario      todo unit variable                                              \n",
       "unspecified   unspecified World  abrupt0p5xCO2 SET  ppm  Atmospheric Concentrations|CO2              276.744   \n",
       "\n",
       "time                                                                                     ...  \\\n",
       "climate_model model       region scenario      todo unit variable                        ...   \n",
       "unspecified   unspecified World  abrupt0p5xCO2 SET  ppm  Atmospheric Concentrations|CO2  ...   \n",
       "\n",
       "time                                                                                     4991-01-01 00:00:00  \\\n",
       "climate_model model       region scenario      todo unit variable                                              \n",
       "unspecified   unspecified World  abrupt0p5xCO2 SET  ppm  Atmospheric Concentrations|CO2              138.372   \n",
       "\n",
       "time                                                                                     4992-01-01 00:00:00  \\\n",
       "climate_model model       region scenario      todo unit variable                                              \n",
       "unspecified   unspecified World  abrupt0p5xCO2 SET  ppm  Atmospheric Concentrations|CO2              138.372   \n",
       "\n",
       "time                                                                                     4993-01-01 00:00:00  \\\n",
       "climate_model model       region scenario      todo unit variable                                              \n",
       "unspecified   unspecified World  abrupt0p5xCO2 SET  ppm  Atmospheric Concentrations|CO2              138.372   \n",
       "\n",
       "time                                                                                     4994-01-01 00:00:00  \\\n",
       "climate_model model       region scenario      todo unit variable                                              \n",
       "unspecified   unspecified World  abrupt0p5xCO2 SET  ppm  Atmospheric Concentrations|CO2              138.372   \n",
       "\n",
       "time                                                                                     4995-01-01 00:00:00  \\\n",
       "climate_model model       region scenario      todo unit variable                                              \n",
       "unspecified   unspecified World  abrupt0p5xCO2 SET  ppm  Atmospheric Concentrations|CO2              138.372   \n",
       "\n",
       "time                                                                                     4996-01-01 00:00:00  \\\n",
       "climate_model model       region scenario      todo unit variable                                              \n",
       "unspecified   unspecified World  abrupt0p5xCO2 SET  ppm  Atmospheric Concentrations|CO2              138.372   \n",
       "\n",
       "time                                                                                     4997-01-01 00:00:00  \\\n",
       "climate_model model       region scenario      todo unit variable                                              \n",
       "unspecified   unspecified World  abrupt0p5xCO2 SET  ppm  Atmospheric Concentrations|CO2              138.372   \n",
       "\n",
       "time                                                                                     4998-01-01 00:00:00  \\\n",
       "climate_model model       region scenario      todo unit variable                                              \n",
       "unspecified   unspecified World  abrupt0p5xCO2 SET  ppm  Atmospheric Concentrations|CO2              138.372   \n",
       "\n",
       "time                                                                                     4999-01-01 00:00:00  \\\n",
       "climate_model model       region scenario      todo unit variable                                              \n",
       "unspecified   unspecified World  abrupt0p5xCO2 SET  ppm  Atmospheric Concentrations|CO2              138.372   \n",
       "\n",
       "time                                                                                     5000-01-01 00:00:00  \n",
       "climate_model model       region scenario      todo unit variable                                             \n",
       "unspecified   unspecified World  abrupt0p5xCO2 SET  ppm  Atmospheric Concentrations|CO2              138.372  \n",
       "\n",
       "[1 rows x 3401 columns]"
      ]
     },
     "execution_count": 5,
     "metadata": {},
     "output_type": "execute_result"
    },
    {
     "data": {
      "image/png": "[encoded data removed]",
      "text/plain": [
       "<Figure size 432x288 with 1 Axes>"
      ]
     },
     "metadata": {
      "needs_background": "light"
     },
     "output_type": "display_data"
    }
   ],
   "source": [
    "CDR_DIR = \"CDRRUN\"\n",
    "abtests = MAGICCData(join(CDR_DIR,\"ABRUPT0P5XCO2_CO2_CONC.IN\"), columns={\"scenario\": ['abrupt0p5xCO2']})\n",
    "abtests.metadata = {\"header\": \"abrupt-0p5xCO2 experiment file, CO2 concentrations halve in 1800 \\\n",
    "    pymagicc, https://doi.org/10.21105/joss.00516, AGPL-3.0 License\"}\n",
    "abtests.line_plot()\n",
    "abtests.timeseries()"
   ]
  },
  {
   "cell_type": "code",
   "execution_count": 6,
   "metadata": {},
   "outputs": [
    {
     "data": {
      "image/png": "[encoded data removed]",
      "text/plain": [
       "<Figure size 576x1152 with 3 Axes>"
      ]
     },
     "metadata": {
      "needs_background": "light"
     },
     "output_type": "display_data"
    }
   ],
   "source": [
    "with MAGICC6() as magicc:\n",
    "    co2_conc_filename = \"ABRUPT0P5XCO2_CO2_CONC.IN\"\n",
    "    abtests.write(join(CDR_DIR, co2_conc_filename), magicc.version)\n",
    "    res = magicc.run(\n",
    "        file_co2_conc=co2_conc_filename, **magcfg)\n",
    "\n",
    "fig, axes = plt.subplots((len(vars)), 1, figsize=(8, 16))\n",
    "for n, var in enumerate(vars):\n",
    "    res.filter(variable=var,region='World').lineplot(hue=\"scenario\", ax=axes[n])\n",
    "    ylab = res.filter(variable=var)[\"unit\"].iloc[[0]].all()\n",
    "    axes[n].set_ylabel(ylab)\n",
    "    axes[n].set_title(var)                        \n",
    "    axes[n].set_xlim(x)\n"
   ]
  }
 ],
 "metadata": {
  "kernelspec": {
   "display_name": "Python 3",
   "language": "python",
   "name": "python3"
  },
  "language_info": {
   "codemirror_mode": {
    "name": "ipython",
    "version": 3
   },
   "file_extension": ".py",
   "mimetype": "text/x-python",
   "name": "python",
   "nbconvert_exporter": "python",
   "pygments_lexer": "ipython3",
   "version": "3.7.4"
  }
 },
 "nbformat": 4,
 "nbformat_minor": 4
}
